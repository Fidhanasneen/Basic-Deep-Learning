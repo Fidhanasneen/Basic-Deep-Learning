{
  "nbformat": 4,
  "nbformat_minor": 0,
  "metadata": {
    "colab": {
      "provenance": []
    },
    "kernelspec": {
      "name": "python3",
      "display_name": "Python 3"
    },
    "language_info": {
      "name": "python"
    }
  },
  "cells": [
    {
      "cell_type": "code",
      "execution_count": null,
      "metadata": {
        "id": "14ClSetONyox"
      },
      "outputs": [],
      "source": [
        "import tensorflow as tf"
      ]
    },
    {
      "cell_type": "code",
      "source": [
        "# initialization of tensors\n",
        "x= tf.constant(4)\n",
        "print(x)"
      ],
      "metadata": {
        "colab": {
          "base_uri": "https://localhost:8080/"
        },
        "id": "7HZ0nGfsVidH",
        "outputId": "56d12766-f042-4555-9a39-2ab316121471"
      },
      "execution_count": null,
      "outputs": [
        {
          "output_type": "stream",
          "name": "stdout",
          "text": [
            "tf.Tensor(4, shape=(), dtype=int32)\n"
          ]
        }
      ]
    },
    {
      "cell_type": "code",
      "source": [
        "x= tf.constant(4, shape=(1,1),dtype=tf.float32)\n",
        "print(x)"
      ],
      "metadata": {
        "colab": {
          "base_uri": "https://localhost:8080/"
        },
        "id": "loGoI-hIV3KB",
        "outputId": "948e9c14-7f1f-49c7-9031-cf1d4bb0493a"
      },
      "execution_count": null,
      "outputs": [
        {
          "output_type": "stream",
          "name": "stdout",
          "text": [
            "tf.Tensor([[4.]], shape=(1, 1), dtype=float32)\n"
          ]
        }
      ]
    },
    {
      "cell_type": "code",
      "source": [
        "x= tf.constant([[1,2,3],[4,5,6]])\n",
        "print(x)"
      ],
      "metadata": {
        "colab": {
          "base_uri": "https://localhost:8080/"
        },
        "id": "GQVd4FJMaFsS",
        "outputId": "7f2d7c5a-ccc3-4a8a-842f-29e935c9a47e"
      },
      "execution_count": null,
      "outputs": [
        {
          "output_type": "stream",
          "name": "stdout",
          "text": [
            "tf.Tensor(\n",
            "[[1 2 3]\n",
            " [4 5 6]], shape=(2, 3), dtype=int32)\n"
          ]
        }
      ]
    },
    {
      "cell_type": "code",
      "source": [
        "x= tf.ones((3,3))\n",
        "print(x)"
      ],
      "metadata": {
        "colab": {
          "base_uri": "https://localhost:8080/"
        },
        "id": "N5Eum2FMahmt",
        "outputId": "e16c2892-cf16-4f89-94d7-34d502d1ad66"
      },
      "execution_count": null,
      "outputs": [
        {
          "output_type": "stream",
          "name": "stdout",
          "text": [
            "tf.Tensor(\n",
            "[[1. 1. 1.]\n",
            " [1. 1. 1.]\n",
            " [1. 1. 1.]], shape=(3, 3), dtype=float32)\n"
          ]
        }
      ]
    },
    {
      "cell_type": "code",
      "source": [
        "x= tf.zeros((3,3))\n",
        "print(x)"
      ],
      "metadata": {
        "colab": {
          "base_uri": "https://localhost:8080/"
        },
        "id": "P4z19D_uahzT",
        "outputId": "b1decb3a-5e0f-4439-c2d8-ee91e3d2029d"
      },
      "execution_count": null,
      "outputs": [
        {
          "output_type": "stream",
          "name": "stdout",
          "text": [
            "tf.Tensor(\n",
            "[[0. 0. 0.]\n",
            " [0. 0. 0.]\n",
            " [0. 0. 0.]], shape=(3, 3), dtype=float32)\n"
          ]
        }
      ]
    },
    {
      "cell_type": "code",
      "source": [
        "x= tf.eye(3) # identity matrix\n",
        "print(x)"
      ],
      "metadata": {
        "colab": {
          "base_uri": "https://localhost:8080/"
        },
        "id": "azAaiHvGazz4",
        "outputId": "e881d415-9fdb-42a2-bc1e-ecc423fb0ccf"
      },
      "execution_count": null,
      "outputs": [
        {
          "output_type": "stream",
          "name": "stdout",
          "text": [
            "tf.Tensor(\n",
            "[[1. 0. 0.]\n",
            " [0. 1. 0.]\n",
            " [0. 0. 1.]], shape=(3, 3), dtype=float32)\n"
          ]
        }
      ]
    },
    {
      "cell_type": "code",
      "source": [
        "x= tf.random.normal((3,3),mean=0,stddev=1)\n",
        "print(x)"
      ],
      "metadata": {
        "colab": {
          "base_uri": "https://localhost:8080/"
        },
        "id": "shyaMcAVbH_I",
        "outputId": "7f862463-2874-4ad1-9406-d71f3f01f189"
      },
      "execution_count": null,
      "outputs": [
        {
          "output_type": "stream",
          "name": "stdout",
          "text": [
            "tf.Tensor(\n",
            "[[-0.42511263  0.7184938   0.6217764 ]\n",
            " [ 0.27269357  0.9483724   0.27814677]\n",
            " [-0.5154918  -1.0287124   1.6564116 ]], shape=(3, 3), dtype=float32)\n"
          ]
        }
      ]
    },
    {
      "cell_type": "code",
      "source": [
        "x= tf.random.uniform((3,3),minval=0,maxval=1)\n",
        "print(x)"
      ],
      "metadata": {
        "colab": {
          "base_uri": "https://localhost:8080/"
        },
        "id": "dFiFCbaVbIAR",
        "outputId": "a41b0cdc-d4f5-4b45-ffd8-ff6cbcfddd8e"
      },
      "execution_count": null,
      "outputs": [
        {
          "output_type": "stream",
          "name": "stdout",
          "text": [
            "tf.Tensor(\n",
            "[[0.38675928 0.8319634  0.06631279]\n",
            " [0.326195   0.9849602  0.7735878 ]\n",
            " [0.11206341 0.00673115 0.11722648]], shape=(3, 3), dtype=float32)\n"
          ]
        }
      ]
    },
    {
      "cell_type": "code",
      "source": [
        "x= tf.range(start=1,limit=10,delta=2) # delta means step or gap btw each number\n",
        "print(x)"
      ],
      "metadata": {
        "colab": {
          "base_uri": "https://localhost:8080/"
        },
        "id": "5y8RJUlPbu4_",
        "outputId": "74dd8619-ff8f-4a84-edb4-6e5ec3fb2454"
      },
      "execution_count": null,
      "outputs": [
        {
          "output_type": "stream",
          "name": "stdout",
          "text": [
            "tf.Tensor([1 3 5 7 9], shape=(5,), dtype=int32)\n"
          ]
        }
      ]
    },
    {
      "cell_type": "code",
      "source": [
        "# to change data type\n",
        "tf.cast(x,dtype=tf.float64)"
      ],
      "metadata": {
        "colab": {
          "base_uri": "https://localhost:8080/"
        },
        "id": "ws7h6P7CcQP5",
        "outputId": "205f3a60-1259-4ea4-84d0-c58ccc29b834"
      },
      "execution_count": null,
      "outputs": [
        {
          "output_type": "execute_result",
          "data": {
            "text/plain": [
              "<tf.Tensor: shape=(5,), dtype=float64, numpy=array([1., 3., 5., 7., 9.])>"
            ]
          },
          "metadata": {},
          "execution_count": 11
        }
      ]
    },
    {
      "cell_type": "markdown",
      "source": [
        "**Mathematical operations**"
      ],
      "metadata": {
        "id": "TOaDlfFjctJA"
      }
    },
    {
      "cell_type": "code",
      "source": [
        "x= tf.constant([1,2,3])\n",
        "y= tf.constant([4,5,6])"
      ],
      "metadata": {
        "id": "PPpuzciGc0Q3"
      },
      "execution_count": null,
      "outputs": []
    },
    {
      "cell_type": "code",
      "source": [
        "z=tf.add(x,y)\n",
        "z=x+y \n",
        "print(z)"
      ],
      "metadata": {
        "colab": {
          "base_uri": "https://localhost:8080/"
        },
        "id": "QB66IRZwc03d",
        "outputId": "f891c245-dc58-4ab8-d4e6-8fae92eb4fa3"
      },
      "execution_count": null,
      "outputs": [
        {
          "output_type": "stream",
          "name": "stdout",
          "text": [
            "tf.Tensor([5 7 9], shape=(3,), dtype=int32)\n"
          ]
        }
      ]
    },
    {
      "cell_type": "code",
      "source": [
        "tf.compat.v1.disable_eager_execution()\n",
        "\n",
        "# building a computational graph\n",
        "a=tf.constant(2)\n",
        "b=tf.constant(4)\n",
        "c=a+b\n",
        "\n",
        "\n",
        "print(c)"
      ],
      "metadata": {
        "colab": {
          "base_uri": "https://localhost:8080/"
        },
        "id": "Nv4babsIVFK9",
        "outputId": "983ff1e0-f30f-43d9-ca67-c8b942608fcc"
      },
      "execution_count": null,
      "outputs": [
        {
          "output_type": "stream",
          "name": "stdout",
          "text": [
            "Tensor(\"add:0\", shape=(), dtype=int32)\n"
          ]
        }
      ]
    },
    {
      "cell_type": "code",
      "source": [
        "#running a computational graph\n",
        "ssn = tf.compat.v1.Session()   # tf.compat.v1 module contains the complete TensorFlow 1.x API, with its original semantics.\n",
        "\n",
        "ssn.run(c)"
      ],
      "metadata": {
        "colab": {
          "base_uri": "https://localhost:8080/"
        },
        "id": "-0CW8PISQQps",
        "outputId": "515e29fd-4809-45da-99c9-fdb238f83d8a"
      },
      "execution_count": null,
      "outputs": [
        {
          "output_type": "execute_result",
          "data": {
            "text/plain": [
              "6"
            ]
          },
          "metadata": {},
          "execution_count": 17
        }
      ]
    },
    {
      "cell_type": "code",
      "source": [
        "x1=tf.constant([1,2,4,5])\n",
        "x2=tf.constant([2,3,4,5])\n",
        "\n",
        "#result = tf.multiply(x1,x2)\n",
        "result=x1*x2\n",
        "\n",
        "print(result)"
      ],
      "metadata": {
        "colab": {
          "base_uri": "https://localhost:8080/"
        },
        "id": "rs3lWHZeP2VP",
        "outputId": "8504b8d2-e1f2-47bd-addb-0b8048ed5990"
      },
      "execution_count": null,
      "outputs": [
        {
          "output_type": "stream",
          "name": "stdout",
          "text": [
            "Tensor(\"mul_1:0\", shape=(4,), dtype=int32)\n"
          ]
        }
      ]
    },
    {
      "cell_type": "code",
      "source": [
        " ssn.run(result)"
      ],
      "metadata": {
        "colab": {
          "base_uri": "https://localhost:8080/"
        },
        "id": "RI-q0OJTQYLS",
        "outputId": "f7106d1a-4d66-4517-905d-e99885dec2c0"
      },
      "execution_count": null,
      "outputs": [
        {
          "output_type": "execute_result",
          "data": {
            "text/plain": [
              "array([ 2,  6, 16, 25], dtype=int32)"
            ]
          },
          "metadata": {},
          "execution_count": 19
        }
      ]
    },
    {
      "cell_type": "markdown",
      "source": [
        "**Placeholder : not providing values at the time of declaration but providing values later at the time of execution**"
      ],
      "metadata": {
        "id": "SNWZp9LsQbnj"
      }
    },
    {
      "cell_type": "code",
      "source": [
        "#a=tf.placeholder(tf.float32)\n",
        "a= tf.compat.v1.placeholder(tf.float32)\n",
        "#b=tf.placeholder(tf.float32)\n",
        "b= tf.compat.v1.placeholder(tf.float32)\n",
        "c=a+b\n",
        "c"
      ],
      "metadata": {
        "colab": {
          "base_uri": "https://localhost:8080/"
        },
        "id": "3XHCJ-GWQaCR",
        "outputId": "74f91107-ce81-4e87-ad2f-5362ee4c4cfd"
      },
      "execution_count": null,
      "outputs": [
        {
          "output_type": "execute_result",
          "data": {
            "text/plain": [
              "<tf.Tensor 'add_1:0' shape=<unknown> dtype=float32>"
            ]
          },
          "metadata": {},
          "execution_count": 20
        }
      ]
    },
    {
      "cell_type": "code",
      "source": [
        "ssn.run(c,{a:1,b:4})  # assigning values to a abd b here"
      ],
      "metadata": {
        "colab": {
          "base_uri": "https://localhost:8080/"
        },
        "id": "D6I6y3SJQwYs",
        "outputId": "ee4e4930-2060-4770-f914-7c3b5f91830a"
      },
      "execution_count": null,
      "outputs": [
        {
          "output_type": "execute_result",
          "data": {
            "text/plain": [
              "5.0"
            ]
          },
          "metadata": {},
          "execution_count": 21
        }
      ]
    },
    {
      "cell_type": "markdown",
      "source": [
        "**Placeholder is very useful when we want to give different input values**"
      ],
      "metadata": {
        "id": "Dde3HSvwQ0SI"
      }
    },
    {
      "cell_type": "code",
      "source": [
        "ssn.run(c,{a:[1,2,3],b:[4,2,1]})  # assigning values to a abd b here"
      ],
      "metadata": {
        "colab": {
          "base_uri": "https://localhost:8080/"
        },
        "id": "FxRwhHvFQzK3",
        "outputId": "e634c78d-eefc-4864-bb7b-a7d0b70e4292"
      },
      "execution_count": null,
      "outputs": [
        {
          "output_type": "execute_result",
          "data": {
            "text/plain": [
              "array([5., 4., 4.], dtype=float32)"
            ]
          },
          "metadata": {},
          "execution_count": 22
        }
      ]
    },
    {
      "cell_type": "code",
      "source": [
        "ssn.run(c,{a:[1,2],b:[4,2]})"
      ],
      "metadata": {
        "colab": {
          "base_uri": "https://localhost:8080/"
        },
        "id": "Vbl9iiGOQ55D",
        "outputId": "552189ee-61a0-459f-e75f-b3c381aad80c"
      },
      "execution_count": null,
      "outputs": [
        {
          "output_type": "execute_result",
          "data": {
            "text/plain": [
              "array([5., 4.], dtype=float32)"
            ]
          },
          "metadata": {},
          "execution_count": 23
        }
      ]
    },
    {
      "cell_type": "code",
      "source": [
        "ssn.run(c,{a:1,b:2})"
      ],
      "metadata": {
        "colab": {
          "base_uri": "https://localhost:8080/"
        },
        "id": "i42N3huXQ7-j",
        "outputId": "94e160a0-15b9-458f-db1c-4ca1ef8ce799"
      },
      "execution_count": null,
      "outputs": [
        {
          "output_type": "execute_result",
          "data": {
            "text/plain": [
              "3.0"
            ]
          },
          "metadata": {},
          "execution_count": 24
        }
      ]
    },
    {
      "cell_type": "markdown",
      "source": [
        "**Variable**"
      ],
      "metadata": {
        "id": "PZ3POcIYRAYZ"
      }
    },
    {
      "cell_type": "code",
      "source": [
        "#x=tf.Variable([1])\n",
        "x=tf.compat.v1.Variable([2])\n",
        "\n",
        "#q=tf.Variable([.1],tf.float32)\n",
        "\n",
        "#w=tf.Variable([3])\n",
        "w=tf.compat.v1.Variable([3])\n",
        "c=x*w\n",
        "init = tf.compat.v1.global_variables_initializer()\n",
        "\n",
        "ssn.run(init)\n",
        "ssn.run(c)"
      ],
      "metadata": {
        "colab": {
          "base_uri": "https://localhost:8080/"
        },
        "id": "HniwaphhQ-AE",
        "outputId": "869c0acf-8c6c-436b-b946-435f2b2ab8fe"
      },
      "execution_count": null,
      "outputs": [
        {
          "output_type": "execute_result",
          "data": {
            "text/plain": [
              "array([6], dtype=int32)"
            ]
          },
          "metadata": {},
          "execution_count": 25
        }
      ]
    },
    {
      "cell_type": "code",
      "source": [],
      "metadata": {
        "id": "hG6vcN0-RI23"
      },
      "execution_count": null,
      "outputs": []
    }
  ]
}